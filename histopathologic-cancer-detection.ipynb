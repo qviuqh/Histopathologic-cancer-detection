{
 "cells": [
  {
   "cell_type": "markdown",
   "id": "6448f089",
   "metadata": {
    "papermill": {
     "duration": 0.004611,
     "end_time": "2025-10-04T08:50:22.798103",
     "exception": false,
     "start_time": "2025-10-04T08:50:22.793492",
     "status": "completed"
    },
    "tags": []
   },
   "source": [
    "# **Histopathologic Cancer Detection**"
   ]
  },
  {
   "cell_type": "code",
   "execution_count": null,
   "id": "70700cab",
   "metadata": {
    "execution": {
     "iopub.execute_input": "2025-10-04T08:50:22.806640Z",
     "iopub.status.busy": "2025-10-04T08:50:22.806376Z",
     "iopub.status.idle": "2025-10-04T08:50:35.311258Z",
     "shell.execute_reply": "2025-10-04T08:50:35.310475Z"
    },
    "papermill": {
     "duration": 12.510757,
     "end_time": "2025-10-04T08:50:35.312704",
     "exception": false,
     "start_time": "2025-10-04T08:50:22.801947",
     "status": "completed"
    },
    "tags": []
   },
   "outputs": [],
   "source": [
    "import numpy as np\n",
    "import pandas as pd\n",
    "\n",
    "import os\n",
    "base_dir = '../input/histopathologic-cancer-detection/'\n",
    "print(os.listdir(base_dir))\n",
    "\n",
    "# Matplotlib and Seaborn for visualization\n",
    "import matplotlib.pyplot as plt\n",
    "import seaborn as sns\n",
    "plt.style.use(\"ggplot\")\n",
    "\n",
    "# OpenCV Image Library\n",
    "import cv2\n",
    "\n",
    "# Import PyTorch\n",
    "import torchvision.transforms as transforms\n",
    "from torch.utils.data.sampler import SubsetRandomSampler\n",
    "import torch\n",
    "import torch.nn as nn\n",
    "import torch.nn.functional as F\n",
    "from torch.utils.data import TensorDataset, DataLoader, Dataset, random_split\n",
    "import torchvision\n",
    "import torch.optim as optim\n",
    "\n",
    "# Import useful sklearn functions\n",
    "import sklearn\n",
    "from sklearn.model_selection import train_test_split\n",
    "from sklearn.metrics import (\n",
    "    accuracy_score, roc_auc_score, classification_report, confusion_matrix, roc_curve\n",
    ")\n",
    "from PIL import Image\n",
    "from tqdm import tqdm"
   ]
  },
  {
   "cell_type": "markdown",
   "id": "9ca9628c",
   "metadata": {
    "papermill": {
     "duration": 0.00373,
     "end_time": "2025-10-04T08:50:35.320512",
     "exception": false,
     "start_time": "2025-10-04T08:50:35.316782",
     "status": "completed"
    },
    "tags": []
   },
   "source": [
    "**Read data**"
   ]
  },
  {
   "cell_type": "code",
   "execution_count": 2,
   "id": "cd839137",
   "metadata": {
    "execution": {
     "iopub.execute_input": "2025-10-04T08:50:35.328906Z",
     "iopub.status.busy": "2025-10-04T08:50:35.328284Z",
     "iopub.status.idle": "2025-10-04T08:50:35.759429Z",
     "shell.execute_reply": "2025-10-04T08:50:35.758667Z"
    },
    "papermill": {
     "duration": 0.43671,
     "end_time": "2025-10-04T08:50:35.760788",
     "exception": false,
     "start_time": "2025-10-04T08:50:35.324078",
     "status": "completed"
    },
    "tags": []
   },
   "outputs": [
    {
     "data": {
      "text/html": [
       "<div>\n",
       "<style scoped>\n",
       "    .dataframe tbody tr th:only-of-type {\n",
       "        vertical-align: middle;\n",
       "    }\n",
       "\n",
       "    .dataframe tbody tr th {\n",
       "        vertical-align: top;\n",
       "    }\n",
       "\n",
       "    .dataframe thead th {\n",
       "        text-align: right;\n",
       "    }\n",
       "</style>\n",
       "<table border=\"1\" class=\"dataframe\">\n",
       "  <thead>\n",
       "    <tr style=\"text-align: right;\">\n",
       "      <th></th>\n",
       "      <th>id</th>\n",
       "      <th>label</th>\n",
       "    </tr>\n",
       "  </thead>\n",
       "  <tbody>\n",
       "    <tr>\n",
       "      <th>0</th>\n",
       "      <td>f38a6374c348f90b587e046aac6079959adf3835</td>\n",
       "      <td>0</td>\n",
       "    </tr>\n",
       "    <tr>\n",
       "      <th>1</th>\n",
       "      <td>c18f2d887b7ae4f6742ee445113fa1aef383ed77</td>\n",
       "      <td>1</td>\n",
       "    </tr>\n",
       "    <tr>\n",
       "      <th>2</th>\n",
       "      <td>755db6279dae599ebb4d39a9123cce439965282d</td>\n",
       "      <td>0</td>\n",
       "    </tr>\n",
       "    <tr>\n",
       "      <th>3</th>\n",
       "      <td>bc3f0c64fb968ff4a8bd33af6971ecae77c75e08</td>\n",
       "      <td>0</td>\n",
       "    </tr>\n",
       "    <tr>\n",
       "      <th>4</th>\n",
       "      <td>068aba587a4950175d04c680d38943fd488d6a9d</td>\n",
       "      <td>0</td>\n",
       "    </tr>\n",
       "  </tbody>\n",
       "</table>\n",
       "</div>"
      ],
      "text/plain": [
       "                                         id  label\n",
       "0  f38a6374c348f90b587e046aac6079959adf3835      0\n",
       "1  c18f2d887b7ae4f6742ee445113fa1aef383ed77      1\n",
       "2  755db6279dae599ebb4d39a9123cce439965282d      0\n",
       "3  bc3f0c64fb968ff4a8bd33af6971ecae77c75e08      0\n",
       "4  068aba587a4950175d04c680d38943fd488d6a9d      0"
      ]
     },
     "execution_count": 2,
     "metadata": {},
     "output_type": "execute_result"
    }
   ],
   "source": [
    "full_data = pd.read_csv(\"../input/histopathologic-cancer-detection/train_labels.csv\")\n",
    "full_data.head()"
   ]
  },
  {
   "cell_type": "code",
   "execution_count": 3,
   "id": "7f087aab",
   "metadata": {
    "execution": {
     "iopub.execute_input": "2025-10-04T08:50:35.770039Z",
     "iopub.status.busy": "2025-10-04T08:50:35.769573Z",
     "iopub.status.idle": "2025-10-04T08:50:35.916118Z",
     "shell.execute_reply": "2025-10-04T08:50:35.915433Z"
    },
    "papermill": {
     "duration": 0.15208,
     "end_time": "2025-10-04T08:50:35.917202",
     "exception": false,
     "start_time": "2025-10-04T08:50:35.765122",
     "status": "completed"
    },
    "tags": []
   },
   "outputs": [
    {
     "data": {
      "image/png": "[encoded data removed]",
      "text/plain": [
       "<Figure size 640x480 with 1 Axes>"
      ]
     },
     "metadata": {},
     "output_type": "display_data"
    },
    {
     "data": {
      "text/plain": [
       "<Figure size 1600x1600 with 0 Axes>"
      ]
     },
     "metadata": {},
     "output_type": "display_data"
    },
    {
     "data": {
      "text/plain": [
       "label\n",
       "0    130908\n",
       "1     89117\n",
       "Name: count, dtype: int64"
      ]
     },
     "execution_count": 3,
     "metadata": {},
     "output_type": "execute_result"
    }
   ],
   "source": [
    "labels_count = full_data.label.value_counts()\n",
    "\n",
    "plt.pie(labels_count, labels=['No Cancer', 'Cancer'], startangle=180, \n",
    "        autopct='%1.1f', colors=['#06d6a0','#ef476f'])\n",
    "plt.figure(figsize=(16,16))\n",
    "plt.show()\n",
    "\n",
    "labels_count"
   ]
  },
  {
   "cell_type": "markdown",
   "id": "58821f51",
   "metadata": {
    "papermill": {
     "duration": 0.004101,
     "end_time": "2025-10-04T08:50:35.925873",
     "exception": false,
     "start_time": "2025-10-04T08:50:35.921772",
     "status": "completed"
    },
    "tags": []
   },
   "source": [
    "**Sampling data**"
   ]
  },
  {
   "cell_type": "code",
   "execution_count": 4,
   "id": "63a5c6ae",
   "metadata": {
    "execution": {
     "iopub.execute_input": "2025-10-04T08:50:35.935899Z",
     "iopub.status.busy": "2025-10-04T08:50:35.935683Z",
     "iopub.status.idle": "2025-10-04T08:50:35.994270Z",
     "shell.execute_reply": "2025-10-04T08:50:35.993580Z"
    },
    "papermill": {
     "duration": 0.064684,
     "end_time": "2025-10-04T08:50:35.995466",
     "exception": false,
     "start_time": "2025-10-04T08:50:35.930782",
     "status": "completed"
    },
    "tags": []
   },
   "outputs": [
    {
     "data": {
      "text/plain": [
       "(178000, 2)"
      ]
     },
     "execution_count": 4,
     "metadata": {},
     "output_type": "execute_result"
    }
   ],
   "source": [
    "# Number of samples in each class\n",
    "SAMPLE_SIZE = 89000\n",
    "\n",
    "# Data paths\n",
    "train_path = '../input/histopathologic-cancer-detection/train/'\n",
    "test_path = '../input/histopathologic-cancer-detection/test/'\n",
    "\n",
    "# Use 89000 positive and negative examples\n",
    "df_negatives = full_data[full_data['label'] == 0].sample(SAMPLE_SIZE, random_state=42)\n",
    "df_positives = full_data[full_data['label'] == 1].sample(SAMPLE_SIZE, random_state=42)\n",
    "\n",
    "# Concatenate the two dfs and shuffle them up\n",
    "data = sklearn.utils.shuffle(pd.concat([df_positives, df_negatives], axis=0).reset_index(drop=True))\n",
    "\n",
    "data.shape"
   ]
  },
  {
   "cell_type": "markdown",
   "id": "8bb36a71",
   "metadata": {
    "papermill": {
     "duration": 0.004134,
     "end_time": "2025-10-04T08:50:36.004207",
     "exception": false,
     "start_time": "2025-10-04T08:50:36.000073",
     "status": "completed"
    },
    "tags": []
   },
   "source": [
    "**Data Preprocessing**"
   ]
  },
  {
   "cell_type": "code",
   "execution_count": 5,
   "id": "e2075256",
   "metadata": {
    "execution": {
     "iopub.execute_input": "2025-10-04T08:50:36.013600Z",
     "iopub.status.busy": "2025-10-04T08:50:36.013349Z",
     "iopub.status.idle": "2025-10-04T08:50:36.081550Z",
     "shell.execute_reply": "2025-10-04T08:50:36.080973Z"
    },
    "papermill": {
     "duration": 0.074454,
     "end_time": "2025-10-04T08:50:36.082842",
     "exception": false,
     "start_time": "2025-10-04T08:50:36.008388",
     "status": "completed"
    },
    "tags": []
   },
   "outputs": [],
   "source": [
    "# Split data into train and test\n",
    "test_ratio = 0.1  \n",
    "\n",
    "train_df, test_df = train_test_split(\n",
    "    data, \n",
    "    test_size=test_ratio, \n",
    "    stratify=data['label'],   # Ensure fair distribution of label\n",
    "    random_state=42\n",
    ")"
   ]
  },
  {
   "cell_type": "code",
   "execution_count": 6,
   "id": "6df07353",
   "metadata": {
    "execution": {
     "iopub.execute_input": "2025-10-04T08:50:36.092555Z",
     "iopub.status.busy": "2025-10-04T08:50:36.092290Z",
     "iopub.status.idle": "2025-10-04T08:50:36.394643Z",
     "shell.execute_reply": "2025-10-04T08:50:36.394050Z"
    },
    "papermill": {
     "duration": 0.308721,
     "end_time": "2025-10-04T08:50:36.395977",
     "exception": false,
     "start_time": "2025-10-04T08:50:36.087256",
     "status": "completed"
    },
    "tags": []
   },
   "outputs": [],
   "source": [
    "# Save to CSV\n",
    "train_df.to_csv(\"train_split.csv\", index=False)\n",
    "test_df.to_csv(\"test_split.csv\", index=False)"
   ]
  },
  {
   "cell_type": "code",
   "execution_count": 7,
   "id": "f30324fc",
   "metadata": {
    "execution": {
     "iopub.execute_input": "2025-10-04T08:50:36.405792Z",
     "iopub.status.busy": "2025-10-04T08:50:36.405578Z",
     "iopub.status.idle": "2025-10-04T08:50:36.410506Z",
     "shell.execute_reply": "2025-10-04T08:50:36.410026Z"
    },
    "papermill": {
     "duration": 0.010897,
     "end_time": "2025-10-04T08:50:36.411593",
     "exception": false,
     "start_time": "2025-10-04T08:50:36.400696",
     "status": "completed"
    },
    "tags": []
   },
   "outputs": [],
   "source": [
    "# Customize class for datasets\n",
    "class CreateDataset(Dataset):\n",
    "    def __init__(self, df_data, data_dir='./', transform=None):\n",
    "        super().__init__()\n",
    "        self.df = df_data.reset_index(drop=True)\n",
    "        self.data_dir = data_dir\n",
    "        self.transform = transform\n",
    "\n",
    "    def __len__(self):\n",
    "        return len(self.df)\n",
    "    \n",
    "    def __getitem__(self, index):\n",
    "        img_name, label = self.df.iloc[index]\n",
    "        img_path = os.path.join(self.data_dir, img_name + '.tif')\n",
    "        image = cv2.imread(img_path)\n",
    "        if image is None:\n",
    "            raise FileNotFoundError(f\"Image {img_path} not found.\")\n",
    "        image = cv2.cvtColor(image, cv2.COLOR_BGR2RGB)\n",
    "        if self.transform:\n",
    "            image = self.transform(image)\n",
    "        return image, torch.tensor(label, dtype=torch.long)"
   ]
  },
  {
   "cell_type": "code",
   "execution_count": 8,
   "id": "68558009",
   "metadata": {
    "execution": {
     "iopub.execute_input": "2025-10-04T08:50:36.420803Z",
     "iopub.status.busy": "2025-10-04T08:50:36.420603Z",
     "iopub.status.idle": "2025-10-04T08:50:36.424405Z",
     "shell.execute_reply": "2025-10-04T08:50:36.423866Z"
    },
    "papermill": {
     "duration": 0.009564,
     "end_time": "2025-10-04T08:50:36.425387",
     "exception": false,
     "start_time": "2025-10-04T08:50:36.415823",
     "status": "completed"
    },
    "tags": []
   },
   "outputs": [],
   "source": [
    "transforms_train = transforms.Compose([\n",
    "    transforms.ToPILImage(),\n",
    "    transforms.RandomHorizontalFlip(p=0.4),\n",
    "    transforms.RandomVerticalFlip(p=0.4),\n",
    "    transforms.RandomRotation(20),\n",
    "    transforms.ToTensor(),\n",
    "    transforms.Normalize((0.5, 0.5, 0.5), (0.5, 0.5, 0.5))\n",
    "])"
   ]
  },
  {
   "cell_type": "code",
   "execution_count": 9,
   "id": "a952222d",
   "metadata": {
    "execution": {
     "iopub.execute_input": "2025-10-04T08:50:36.434621Z",
     "iopub.status.busy": "2025-10-04T08:50:36.434238Z",
     "iopub.status.idle": "2025-10-04T08:50:36.440741Z",
     "shell.execute_reply": "2025-10-04T08:50:36.440232Z"
    },
    "papermill": {
     "duration": 0.012129,
     "end_time": "2025-10-04T08:50:36.441707",
     "exception": false,
     "start_time": "2025-10-04T08:50:36.429578",
     "status": "completed"
    },
    "tags": []
   },
   "outputs": [],
   "source": [
    "train_data = CreateDataset(df_data=train_df, data_dir=train_path, transform=transforms_train)"
   ]
  },
  {
   "cell_type": "code",
   "execution_count": 10,
   "id": "923bb9c3",
   "metadata": {
    "execution": {
     "iopub.execute_input": "2025-10-04T08:50:36.451039Z",
     "iopub.status.busy": "2025-10-04T08:50:36.450700Z",
     "iopub.status.idle": "2025-10-04T08:50:36.465733Z",
     "shell.execute_reply": "2025-10-04T08:50:36.465173Z"
    },
    "papermill": {
     "duration": 0.020861,
     "end_time": "2025-10-04T08:50:36.466745",
     "exception": false,
     "start_time": "2025-10-04T08:50:36.445884",
     "status": "completed"
    },
    "tags": []
   },
   "outputs": [],
   "source": [
    "batch_size = 128    # Set Batch Size\n",
    "valid_size = 0.2    # Percentage of training set to use as validation\n",
    "\n",
    "num_train = len(train_data)  \n",
    "train_size = int((1 - valid_size) * num_train)  \n",
    "valid_size = num_train - train_size  \n",
    "\n",
    "train_data, valid_data = random_split(train_data, [train_size, valid_size])\n",
    "\n",
    "# Prepare data loaders (combine dataset and sampler)\n",
    "train_loader = DataLoader(train_data, batch_size=batch_size, shuffle=True)\n",
    "valid_loader = DataLoader(valid_data, batch_size=batch_size, shuffle=False)"
   ]
  },
  {
   "cell_type": "code",
   "execution_count": 11,
   "id": "f5776adf",
   "metadata": {
    "execution": {
     "iopub.execute_input": "2025-10-04T08:50:36.475874Z",
     "iopub.status.busy": "2025-10-04T08:50:36.475673Z",
     "iopub.status.idle": "2025-10-04T08:50:36.480415Z",
     "shell.execute_reply": "2025-10-04T08:50:36.479872Z"
    },
    "papermill": {
     "duration": 0.010615,
     "end_time": "2025-10-04T08:50:36.481591",
     "exception": false,
     "start_time": "2025-10-04T08:50:36.470976",
     "status": "completed"
    },
    "tags": []
   },
   "outputs": [],
   "source": [
    "transforms_test = transforms.Compose([\n",
    "    transforms.ToPILImage(),\n",
    "    transforms.ToTensor(),\n",
    "    transforms.Normalize((0.5, 0.5, 0.5), (0.5, 0.5, 0.5))\n",
    "])\n",
    "\n",
    "# Creating test data\n",
    "test_data = CreateDataset(df_data=test_df, data_dir=train_path, transform=transforms_test)\n",
    "\n",
    "# Prepare the test loader\n",
    "test_loader = DataLoader(test_data, batch_size=batch_size, shuffle=False)"
   ]
  },
  {
   "cell_type": "markdown",
   "id": "019b0cdf",
   "metadata": {
    "papermill": {
     "duration": 0.004174,
     "end_time": "2025-10-04T08:50:36.490194",
     "exception": false,
     "start_time": "2025-10-04T08:50:36.486020",
     "status": "completed"
    },
    "tags": []
   },
   "source": [
    "**Defining Model Architecture**"
   ]
  },
  {
   "cell_type": "code",
   "execution_count": 14,
   "id": "5597dead",
   "metadata": {
    "execution": {
     "iopub.execute_input": "2025-10-04T08:50:36.499530Z",
     "iopub.status.busy": "2025-10-04T08:50:36.499273Z",
     "iopub.status.idle": "2025-10-04T08:50:36.508190Z",
     "shell.execute_reply": "2025-10-04T08:50:36.507705Z"
    },
    "papermill": {
     "duration": 0.014784,
     "end_time": "2025-10-04T08:50:36.509214",
     "exception": false,
     "start_time": "2025-10-04T08:50:36.494430",
     "status": "completed"
    },
    "tags": []
   },
   "outputs": [],
   "source": [
    "class CNN(nn.Module):\n",
    "    def __init__(self):\n",
    "        super(CNN,self).__init__()\n",
    "        # Convolutional and Pooling Layers\n",
    "        self.conv1=nn.Sequential(\n",
    "                nn.Conv2d(in_channels=3,out_channels=32,kernel_size=3,stride=1,padding=0),\n",
    "                nn.BatchNorm2d(32),\n",
    "                nn.ReLU(inplace=True),\n",
    "                nn.MaxPool2d(2,2))\n",
    "        self.conv2=nn.Sequential(\n",
    "                nn.Conv2d(in_channels=32,out_channels=64,kernel_size=2,stride=1,padding=1),\n",
    "                nn.BatchNorm2d(64),\n",
    "                nn.ReLU(inplace=True),\n",
    "                nn.MaxPool2d(2,2))\n",
    "        self.conv3=nn.Sequential(\n",
    "                nn.Conv2d(in_channels=64,out_channels=128,kernel_size=3,stride=1,padding=1),\n",
    "                nn.BatchNorm2d(128),\n",
    "                nn.ReLU(inplace=True),\n",
    "                nn.MaxPool2d(2,2))\n",
    "        self.conv4=nn.Sequential(\n",
    "                nn.Conv2d(in_channels=128,out_channels=256,kernel_size=3,stride=1,padding=1),\n",
    "                nn.BatchNorm2d(256),\n",
    "                nn.ReLU(inplace=True),\n",
    "                nn.MaxPool2d(2,2))\n",
    "        self.conv5=nn.Sequential(\n",
    "                nn.Conv2d(in_channels=256, out_channels=512, kernel_size=3, stride=1, padding=1),\n",
    "                nn.BatchNorm2d(512),\n",
    "                nn.ReLU(inplace=True),\n",
    "                nn.MaxPool2d(2,2))\n",
    "        \n",
    "        self.dropout2d = nn.Dropout2d()\n",
    "        \n",
    "        self.fc=nn.Sequential(\n",
    "                nn.Linear(512*3*3,1024),\n",
    "                nn.ReLU(inplace=True),\n",
    "                nn.Dropout(0.4),\n",
    "                nn.Linear(1024,512),\n",
    "                nn.Dropout(0.4),\n",
    "                nn.Linear(512, 1),\n",
    "                nn.Sigmoid())\n",
    "        \n",
    "    def forward(self,x):\n",
    "        \"\"\"Method for Forward Prop\"\"\"\n",
    "        x=self.conv1(x)\n",
    "        x=self.conv2(x)\n",
    "        x=self.conv3(x)\n",
    "        x=self.conv4(x)\n",
    "        x=self.conv5(x)\n",
    "        x=x.view(x.shape[0],-1)\n",
    "        x=self.fc(x)\n",
    "        return x"
   ]
  },
  {
   "cell_type": "code",
   "execution_count": 13,
   "id": "8892ff25",
   "metadata": {
    "execution": {
     "iopub.execute_input": "2025-10-04T08:50:36.519380Z",
     "iopub.status.busy": "2025-10-04T08:50:36.519151Z",
     "iopub.status.idle": "2025-10-04T08:50:36.587146Z",
     "shell.execute_reply": "2025-10-04T08:50:36.586042Z"
    },
    "papermill": {
     "duration": 0.074169,
     "end_time": "2025-10-04T08:50:36.588574",
     "exception": false,
     "start_time": "2025-10-04T08:50:36.514405",
     "status": "completed"
    },
    "tags": []
   },
   "outputs": [
    {
     "name": "stdout",
     "output_type": "stream",
     "text": [
      "CNN(\n",
      "  (conv1): Sequential(\n",
      "    (0): Conv2d(3, 32, kernel_size=(3, 3), stride=(1, 1))\n",
      "    (1): BatchNorm2d(32, eps=1e-05, momentum=0.1, affine=True, track_running_stats=True)\n",
      "    (2): ReLU(inplace=True)\n",
      "    (3): MaxPool2d(kernel_size=2, stride=2, padding=0, dilation=1, ceil_mode=False)\n",
      "  )\n",
      "  (conv2): Sequential(\n",
      "    (0): Conv2d(32, 64, kernel_size=(2, 2), stride=(1, 1), padding=(1, 1))\n",
      "    (1): BatchNorm2d(64, eps=1e-05, momentum=0.1, affine=True, track_running_stats=True)\n",
      "    (2): ReLU(inplace=True)\n",
      "    (3): MaxPool2d(kernel_size=2, stride=2, padding=0, dilation=1, ceil_mode=False)\n",
      "  )\n",
      "  (conv3): Sequential(\n",
      "    (0): Conv2d(64, 128, kernel_size=(3, 3), stride=(1, 1), padding=(1, 1))\n",
      "    (1): BatchNorm2d(128, eps=1e-05, momentum=0.1, affine=True, track_running_stats=True)\n",
      "    (2): ReLU(inplace=True)\n",
      "    (3): MaxPool2d(kernel_size=2, stride=2, padding=0, dilation=1, ceil_mode=False)\n",
      "  )\n",
      "  (conv4): Sequential(\n",
      "    (0): Conv2d(128, 256, kernel_size=(3, 3), stride=(1, 1), padding=(1, 1))\n",
      "    (1): BatchNorm2d(256, eps=1e-05, momentum=0.1, affine=True, track_running_stats=True)\n",
      "    (2): ReLU(inplace=True)\n",
      "    (3): MaxPool2d(kernel_size=2, stride=2, padding=0, dilation=1, ceil_mode=False)\n",
      "  )\n",
      "  (conv5): Sequential(\n",
      "    (0): Conv2d(256, 512, kernel_size=(3, 3), stride=(1, 1), padding=(1, 1))\n",
      "    (1): BatchNorm2d(512, eps=1e-05, momentum=0.1, affine=True, track_running_stats=True)\n",
      "    (2): ReLU(inplace=True)\n",
      "    (3): MaxPool2d(kernel_size=2, stride=2, padding=0, dilation=1, ceil_mode=False)\n",
      "  )\n",
      "  (dropout2d): Dropout2d(p=0.5, inplace=False)\n",
      "  (fc): Sequential(\n",
      "    (0): Linear(in_features=4608, out_features=1024, bias=True)\n",
      "    (1): ReLU(inplace=True)\n",
      "    (2): Dropout(p=0.4, inplace=False)\n",
      "    (3): Linear(in_features=1024, out_features=512, bias=True)\n",
      "    (4): Dropout(p=0.4, inplace=False)\n",
      "    (5): Linear(in_features=512, out_features=1, bias=True)\n",
      "    (6): Sigmoid()\n",
      "  )\n",
      ")\n"
     ]
    }
   ],
   "source": [
    "# Create a complete CNN\n",
    "model = CNN()\n",
    "print(model)"
   ]
  },
  {
   "cell_type": "code",
   "execution_count": 14,
   "id": "874b617d",
   "metadata": {
    "execution": {
     "iopub.execute_input": "2025-10-04T08:50:36.599364Z",
     "iopub.status.busy": "2025-10-04T08:50:36.598780Z",
     "iopub.status.idle": "2025-10-04T08:50:36.661962Z",
     "shell.execute_reply": "2025-10-04T08:50:36.661194Z"
    },
    "papermill": {
     "duration": 0.069437,
     "end_time": "2025-10-04T08:50:36.663091",
     "exception": false,
     "start_time": "2025-10-04T08:50:36.593654",
     "status": "completed"
    },
    "tags": []
   },
   "outputs": [
    {
     "name": "stdout",
     "output_type": "stream",
     "text": [
      "Training on cuda\n"
     ]
    }
   ],
   "source": [
    "device = torch.device(\"cuda\" if torch.cuda.is_available() else \"cpu\")\n",
    "print(f\"Training on {device}\")"
   ]
  },
  {
   "cell_type": "code",
   "execution_count": 15,
   "id": "a1fa1ac3",
   "metadata": {
    "execution": {
     "iopub.execute_input": "2025-10-04T08:50:36.673244Z",
     "iopub.status.busy": "2025-10-04T08:50:36.673051Z",
     "iopub.status.idle": "2025-10-04T08:50:36.677146Z",
     "shell.execute_reply": "2025-10-04T08:50:36.676359Z"
    },
    "papermill": {
     "duration": 0.010274,
     "end_time": "2025-10-04T08:50:36.678135",
     "exception": false,
     "start_time": "2025-10-04T08:50:36.667861",
     "status": "completed"
    },
    "tags": []
   },
   "outputs": [
    {
     "name": "stdout",
     "output_type": "stream",
     "text": [
      "Number of trainable parameters: \n",
      "6805249\n"
     ]
    }
   ],
   "source": [
    "# Trainable Parameters\n",
    "pytorch_total_params = sum(p.numel() for p in model.parameters() if p.requires_grad)\n",
    "print(\"Number of trainable parameters: \\n{}\".format(pytorch_total_params))"
   ]
  },
  {
   "cell_type": "markdown",
   "id": "8082948e",
   "metadata": {
    "papermill": {
     "duration": 0.004291,
     "end_time": "2025-10-04T08:50:36.687018",
     "exception": false,
     "start_time": "2025-10-04T08:50:36.682727",
     "status": "completed"
    },
    "tags": []
   },
   "source": [
    "**Training Model**"
   ]
  },
  {
   "cell_type": "code",
   "execution_count": 16,
   "id": "ac82f23c",
   "metadata": {
    "execution": {
     "iopub.execute_input": "2025-10-04T08:50:36.696888Z",
     "iopub.status.busy": "2025-10-04T08:50:36.696706Z",
     "iopub.status.idle": "2025-10-04T08:50:36.706535Z",
     "shell.execute_reply": "2025-10-04T08:50:36.705995Z"
    },
    "papermill": {
     "duration": 0.016063,
     "end_time": "2025-10-04T08:50:36.707492",
     "exception": false,
     "start_time": "2025-10-04T08:50:36.691429",
     "status": "completed"
    },
    "tags": []
   },
   "outputs": [],
   "source": [
    "def train_model(model, train_loader, val_loader, criterion, optimizer, device, num_epochs=50):\n",
    "    \"\"\" \n",
    "    Train & validate a PyTorch model \n",
    "        Args: \n",
    "            model : CNN model \n",
    "            train_loader: DataLoader cho tập train \n",
    "            val_loader : DataLoader cho tập validation \n",
    "            criterion : Loss function (nn.BCELoss hoặc nn.CrossEntropyLoss) \n",
    "            optimizer : Optimizer (Adam, SGD,...) \n",
    "            device : 'cuda' hoặc 'cpu' \n",
    "            num_epochs : số epoch huấn luyện \n",
    "        Returns: \n",
    "            model : mô hình sau khi train \n",
    "            history : dict chứa loss/acc theo epoch \n",
    "    \"\"\"\n",
    "    \n",
    "    history = {\n",
    "        \"train_loss\": [],\n",
    "        \"val_loss\": [],\n",
    "        \"train_auc\": [],\n",
    "        \"val_auc\": []\n",
    "    }\n",
    "    \n",
    "    best_val_loss = float(\"inf\")\n",
    "    best_model_wts = model.state_dict()\n",
    "    \n",
    "    model.to(device)\n",
    "\n",
    "    for epoch in range(num_epochs):\n",
    "        print(f\"\\nEpoch {epoch+1}/{num_epochs}\")\n",
    "        print(\"-\" * 30)\n",
    "        \n",
    "        # ------------------------\n",
    "        # TRAINING PHASE\n",
    "        # ------------------------\n",
    "        model.train()\n",
    "        running_loss, total = 0.0, 0\n",
    "        all_labels, all_outputs = [], []\n",
    "\n",
    "        for images, labels in tqdm(train_loader, desc=\"Training\"):\n",
    "            images, labels = images.to(device), labels.to(device)\n",
    "\n",
    "            optimizer.zero_grad()\n",
    "            \n",
    "            outputs = model(images).squeeze()   # đã sigmoid rồi\n",
    "            loss = criterion(outputs, labels.float())\n",
    "\n",
    "            all_outputs.extend(outputs.detach().cpu().numpy())\n",
    "            all_labels.extend(labels.detach().cpu().numpy())\n",
    "            \n",
    "            loss.backward()\n",
    "            optimizer.step()\n",
    "            \n",
    "            running_loss += loss.item() * images.size(0)\n",
    "            total += labels.size(0)\n",
    "        \n",
    "        epoch_train_loss = running_loss / total\n",
    "        try:\n",
    "            epoch_train_auc = roc_auc_score(all_labels, all_outputs)\n",
    "        except ValueError:\n",
    "            epoch_train_auc = 0.0\n",
    "\n",
    "        # ------------------------\n",
    "        # VALIDATION PHASE\n",
    "        # ------------------------\n",
    "        model.eval()\n",
    "        val_loss, val_total = 0.0, 0\n",
    "        val_labels, val_outputs = [], []\n",
    "\n",
    "        with torch.no_grad():\n",
    "            for images, labels in tqdm(val_loader, desc=\"Validation\"):\n",
    "                images, labels = images.to(device), labels.to(device)\n",
    "                \n",
    "                outputs = model(images).squeeze() \n",
    "                loss = criterion(outputs, labels.float())\n",
    "\n",
    "                val_outputs.extend(outputs.detach().cpu().numpy())\n",
    "                val_labels.extend(labels.detach().cpu().numpy())\n",
    "                \n",
    "                val_loss += loss.item() * images.size(0)\n",
    "                val_total += labels.size(0)\n",
    "        \n",
    "        epoch_val_loss = val_loss / val_total\n",
    "        try:\n",
    "            epoch_val_auc = roc_auc_score(val_labels, val_outputs)\n",
    "        except ValueError:\n",
    "            epoch_val_auc = 0.0\n",
    "\n",
    "        # ------------------------\n",
    "        # LOGGING\n",
    "        # ------------------------\n",
    "        history[\"train_loss\"].append(epoch_train_loss)\n",
    "        history[\"val_loss\"].append(epoch_val_loss)\n",
    "        history[\"train_auc\"].append(epoch_train_auc)\n",
    "        history[\"val_auc\"].append(epoch_val_auc)\n",
    "\n",
    "        print(f\"Train Loss: {epoch_train_loss:.4f} AUC: {epoch_train_auc:.4f}\")\n",
    "        print(f\"Valid Loss: {epoch_val_loss:.4f} AUC: {epoch_val_auc:.4f}\")\n",
    "        \n",
    "        # ------------------------\n",
    "        # SAVE BEST MODEL (theo val_loss nhỏ nhất)\n",
    "        # ------------------------\n",
    "        if epoch_val_loss < best_val_loss:\n",
    "            best_val_loss = epoch_val_loss\n",
    "            best_model_wts = model.state_dict().copy()\n",
    "            torch.save(best_model_wts, \"best_model.pth\")\n",
    "            print(\">>> Saved best model with Val Loss:\", best_val_loss)\n",
    "    \n",
    "    # load best weights\n",
    "    model.load_state_dict(best_model_wts)\n",
    "    return model, history"
   ]
  },
  {
   "cell_type": "code",
   "execution_count": 17,
   "id": "7af2c83a",
   "metadata": {
    "execution": {
     "iopub.execute_input": "2025-10-04T08:50:36.717115Z",
     "iopub.status.busy": "2025-10-04T08:50:36.716767Z",
     "iopub.status.idle": "2025-10-04T08:50:36.720489Z",
     "shell.execute_reply": "2025-10-04T08:50:36.719936Z"
    },
    "papermill": {
     "duration": 0.00978,
     "end_time": "2025-10-04T08:50:36.721673",
     "exception": false,
     "start_time": "2025-10-04T08:50:36.711893",
     "status": "completed"
    },
    "tags": []
   },
   "outputs": [],
   "source": [
    "criterion = nn.BCELoss()\n",
    "# optimizer = optim.Adam(model.parameters(), lr=0.00015)\n",
    "# optimizer = torch.optim.SGD(model.parameters(), lr=0.00015, momentum=0.9, weight_decay=1e-4)\n",
    "optimizer = optim.AdamW(model.parameters(), lr=0.00015, weight_decay=1e-4)"
   ]
  },
  {
   "cell_type": "code",
   "execution_count": 18,
   "id": "4ad2ef56",
   "metadata": {
    "execution": {
     "iopub.execute_input": "2025-10-04T08:50:36.731235Z",
     "iopub.status.busy": "2025-10-04T08:50:36.731063Z",
     "iopub.status.idle": "2025-10-04T12:29:49.049029Z",
     "shell.execute_reply": "2025-10-04T12:29:49.048223Z"
    },
    "papermill": {
     "duration": 13152.324195,
     "end_time": "2025-10-04T12:29:49.050328",
     "exception": false,
     "start_time": "2025-10-04T08:50:36.726133",
     "status": "completed"
    },
    "tags": []
   },
   "outputs": [
    {
     "name": "stdout",
     "output_type": "stream",
     "text": [
      "\n",
      "Epoch 1/30\n",
      "------------------------------\n"
     ]
    },
    {
     "name": "stderr",
     "output_type": "stream",
     "text": [
      "Training: 100%|██████████| 1002/1002 [25:36<00:00,  1.53s/it]\n",
      "Validation: 100%|██████████| 251/251 [05:40<00:00,  1.36s/it]\n"
     ]
    },
    {
     "name": "stdout",
     "output_type": "stream",
     "text": [
      "Train Loss: 0.3758 AUC: 0.9131\n",
      "Valid Loss: 0.3941 AUC: 0.9160\n",
      ">>> Saved best model with Val Loss: 0.3941014623299669\n",
      "\n",
      "Epoch 2/30\n",
      "------------------------------\n"
     ]
    },
    {
     "name": "stderr",
     "output_type": "stream",
     "text": [
      "Training: 100%|██████████| 1002/1002 [07:37<00:00,  2.19it/s]\n",
      "Validation: 100%|██████████| 251/251 [01:25<00:00,  2.92it/s]\n"
     ]
    },
    {
     "name": "stdout",
     "output_type": "stream",
     "text": [
      "Train Loss: 0.3012 AUC: 0.9448\n",
      "Valid Loss: 0.2719 AUC: 0.9586\n",
      ">>> Saved best model with Val Loss: 0.2718802912776985\n",
      "\n",
      "Epoch 3/30\n",
      "------------------------------\n"
     ]
    },
    {
     "name": "stderr",
     "output_type": "stream",
     "text": [
      "Training: 100%|██████████| 1002/1002 [05:25<00:00,  3.08it/s]\n",
      "Validation: 100%|██████████| 251/251 [01:09<00:00,  3.62it/s]\n"
     ]
    },
    {
     "name": "stdout",
     "output_type": "stream",
     "text": [
      "Train Loss: 0.2684 AUC: 0.9561\n",
      "Valid Loss: 0.2652 AUC: 0.9668\n",
      ">>> Saved best model with Val Loss: 0.2652029350716225\n",
      "\n",
      "Epoch 4/30\n",
      "------------------------------\n"
     ]
    },
    {
     "name": "stderr",
     "output_type": "stream",
     "text": [
      "Training: 100%|██████████| 1002/1002 [05:23<00:00,  3.10it/s]\n",
      "Validation: 100%|██████████| 251/251 [01:24<00:00,  2.98it/s]\n"
     ]
    },
    {
     "name": "stdout",
     "output_type": "stream",
     "text": [
      "Train Loss: 0.2444 AUC: 0.9635\n",
      "Valid Loss: 0.2291 AUC: 0.9708\n",
      ">>> Saved best model with Val Loss: 0.22913244058948926\n",
      "\n",
      "Epoch 5/30\n",
      "------------------------------\n"
     ]
    },
    {
     "name": "stderr",
     "output_type": "stream",
     "text": [
      "Training: 100%|██████████| 1002/1002 [06:09<00:00,  2.71it/s]\n",
      "Validation: 100%|██████████| 251/251 [01:19<00:00,  3.14it/s]\n"
     ]
    },
    {
     "name": "stdout",
     "output_type": "stream",
     "text": [
      "Train Loss: 0.2287 AUC: 0.9677\n",
      "Valid Loss: 0.2448 AUC: 0.9718\n",
      "\n",
      "Epoch 6/30\n",
      "------------------------------\n"
     ]
    },
    {
     "name": "stderr",
     "output_type": "stream",
     "text": [
      "Training: 100%|██████████| 1002/1002 [05:08<00:00,  3.25it/s]\n",
      "Validation: 100%|██████████| 251/251 [01:03<00:00,  3.98it/s]\n"
     ]
    },
    {
     "name": "stdout",
     "output_type": "stream",
     "text": [
      "Train Loss: 0.2145 AUC: 0.9716\n",
      "Valid Loss: 0.2075 AUC: 0.9747\n",
      ">>> Saved best model with Val Loss: 0.2075418480587065\n",
      "\n",
      "Epoch 7/30\n",
      "------------------------------\n"
     ]
    },
    {
     "name": "stderr",
     "output_type": "stream",
     "text": [
      "Training: 100%|██████████| 1002/1002 [05:12<00:00,  3.20it/s]\n",
      "Validation: 100%|██████████| 251/251 [01:22<00:00,  3.05it/s]\n"
     ]
    },
    {
     "name": "stdout",
     "output_type": "stream",
     "text": [
      "Train Loss: 0.2049 AUC: 0.9740\n",
      "Valid Loss: 0.2783 AUC: 0.9681\n",
      "\n",
      "Epoch 8/30\n",
      "------------------------------\n"
     ]
    },
    {
     "name": "stderr",
     "output_type": "stream",
     "text": [
      "Training: 100%|██████████| 1002/1002 [05:43<00:00,  2.92it/s]\n",
      "Validation: 100%|██████████| 251/251 [01:16<00:00,  3.27it/s]\n"
     ]
    },
    {
     "name": "stdout",
     "output_type": "stream",
     "text": [
      "Train Loss: 0.1968 AUC: 0.9759\n",
      "Valid Loss: 0.2507 AUC: 0.9767\n",
      "\n",
      "Epoch 9/30\n",
      "------------------------------\n"
     ]
    },
    {
     "name": "stderr",
     "output_type": "stream",
     "text": [
      "Training: 100%|██████████| 1002/1002 [05:23<00:00,  3.10it/s]\n",
      "Validation: 100%|██████████| 251/251 [01:15<00:00,  3.30it/s]\n"
     ]
    },
    {
     "name": "stdout",
     "output_type": "stream",
     "text": [
      "Train Loss: 0.1888 AUC: 0.9778\n",
      "Valid Loss: 0.1905 AUC: 0.9780\n",
      ">>> Saved best model with Val Loss: 0.19054857634947392\n",
      "\n",
      "Epoch 10/30\n",
      "------------------------------\n"
     ]
    },
    {
     "name": "stderr",
     "output_type": "stream",
     "text": [
      "Training: 100%|██████████| 1002/1002 [05:44<00:00,  2.91it/s]\n",
      "Validation: 100%|██████████| 251/251 [01:27<00:00,  2.86it/s]\n"
     ]
    },
    {
     "name": "stdout",
     "output_type": "stream",
     "text": [
      "Train Loss: 0.1824 AUC: 0.9792\n",
      "Valid Loss: 0.1682 AUC: 0.9832\n",
      ">>> Saved best model with Val Loss: 0.16824252836675976\n",
      "\n",
      "Epoch 11/30\n",
      "------------------------------\n"
     ]
    },
    {
     "name": "stderr",
     "output_type": "stream",
     "text": [
      "Training: 100%|██████████| 1002/1002 [05:40<00:00,  2.95it/s]\n",
      "Validation: 100%|██████████| 251/251 [00:59<00:00,  4.19it/s]\n"
     ]
    },
    {
     "name": "stdout",
     "output_type": "stream",
     "text": [
      "Train Loss: 0.1785 AUC: 0.9801\n",
      "Valid Loss: 0.1689 AUC: 0.9826\n",
      "\n",
      "Epoch 12/30\n",
      "------------------------------\n"
     ]
    },
    {
     "name": "stderr",
     "output_type": "stream",
     "text": [
      "Training: 100%|██████████| 1002/1002 [05:23<00:00,  3.10it/s]\n",
      "Validation: 100%|██████████| 251/251 [01:19<00:00,  3.18it/s]\n"
     ]
    },
    {
     "name": "stdout",
     "output_type": "stream",
     "text": [
      "Train Loss: 0.1721 AUC: 0.9815\n",
      "Valid Loss: 0.1681 AUC: 0.9848\n",
      ">>> Saved best model with Val Loss: 0.16813048004508763\n",
      "\n",
      "Epoch 13/30\n",
      "------------------------------\n"
     ]
    },
    {
     "name": "stderr",
     "output_type": "stream",
     "text": [
      "Training: 100%|██████████| 1002/1002 [05:10<00:00,  3.23it/s]\n",
      "Validation: 100%|██████████| 251/251 [01:00<00:00,  4.15it/s]\n"
     ]
    },
    {
     "name": "stdout",
     "output_type": "stream",
     "text": [
      "Train Loss: 0.1688 AUC: 0.9821\n",
      "Valid Loss: 0.1921 AUC: 0.9825\n",
      "\n",
      "Epoch 14/30\n",
      "------------------------------\n"
     ]
    },
    {
     "name": "stderr",
     "output_type": "stream",
     "text": [
      "Training: 100%|██████████| 1002/1002 [04:55<00:00,  3.39it/s]\n",
      "Validation: 100%|██████████| 251/251 [01:03<00:00,  3.95it/s]\n"
     ]
    },
    {
     "name": "stdout",
     "output_type": "stream",
     "text": [
      "Train Loss: 0.1638 AUC: 0.9831\n",
      "Valid Loss: 0.1628 AUC: 0.9867\n",
      ">>> Saved best model with Val Loss: 0.16276617031195637\n",
      "\n",
      "Epoch 15/30\n",
      "------------------------------\n"
     ]
    },
    {
     "name": "stderr",
     "output_type": "stream",
     "text": [
      "Training: 100%|██████████| 1002/1002 [04:23<00:00,  3.80it/s]\n",
      "Validation: 100%|██████████| 251/251 [00:56<00:00,  4.44it/s]\n"
     ]
    },
    {
     "name": "stdout",
     "output_type": "stream",
     "text": [
      "Train Loss: 0.1608 AUC: 0.9838\n",
      "Valid Loss: 0.1531 AUC: 0.9855\n",
      ">>> Saved best model with Val Loss: 0.15311259068874236\n",
      "\n",
      "Epoch 16/30\n",
      "------------------------------\n"
     ]
    },
    {
     "name": "stderr",
     "output_type": "stream",
     "text": [
      "Training: 100%|██████████| 1002/1002 [04:38<00:00,  3.60it/s]\n",
      "Validation: 100%|██████████| 251/251 [01:01<00:00,  4.07it/s]\n"
     ]
    },
    {
     "name": "stdout",
     "output_type": "stream",
     "text": [
      "Train Loss: 0.1542 AUC: 0.9850\n",
      "Valid Loss: 0.1538 AUC: 0.9854\n",
      "\n",
      "Epoch 17/30\n",
      "------------------------------\n"
     ]
    },
    {
     "name": "stderr",
     "output_type": "stream",
     "text": [
      "Training: 100%|██████████| 1002/1002 [04:52<00:00,  3.42it/s]\n",
      "Validation: 100%|██████████| 251/251 [01:18<00:00,  3.19it/s]\n"
     ]
    },
    {
     "name": "stdout",
     "output_type": "stream",
     "text": [
      "Train Loss: 0.1526 AUC: 0.9853\n",
      "Valid Loss: 0.1576 AUC: 0.9859\n",
      "\n",
      "Epoch 18/30\n",
      "------------------------------\n"
     ]
    },
    {
     "name": "stderr",
     "output_type": "stream",
     "text": [
      "Training: 100%|██████████| 1002/1002 [06:04<00:00,  2.75it/s]\n",
      "Validation: 100%|██████████| 251/251 [01:26<00:00,  2.89it/s]\n"
     ]
    },
    {
     "name": "stdout",
     "output_type": "stream",
     "text": [
      "Train Loss: 0.1470 AUC: 0.9863\n",
      "Valid Loss: 0.1445 AUC: 0.9874\n",
      ">>> Saved best model with Val Loss: 0.1444908999771661\n",
      "\n",
      "Epoch 19/30\n",
      "------------------------------\n"
     ]
    },
    {
     "name": "stderr",
     "output_type": "stream",
     "text": [
      "Training: 100%|██████████| 1002/1002 [05:52<00:00,  2.84it/s]\n",
      "Validation: 100%|██████████| 251/251 [01:16<00:00,  3.26it/s]\n"
     ]
    },
    {
     "name": "stdout",
     "output_type": "stream",
     "text": [
      "Train Loss: 0.1455 AUC: 0.9866\n",
      "Valid Loss: 0.1409 AUC: 0.9880\n",
      ">>> Saved best model with Val Loss: 0.14088855407732107\n",
      "\n",
      "Epoch 20/30\n",
      "------------------------------\n"
     ]
    },
    {
     "name": "stderr",
     "output_type": "stream",
     "text": [
      "Training: 100%|██████████| 1002/1002 [06:10<00:00,  2.71it/s]\n",
      "Validation: 100%|██████████| 251/251 [01:44<00:00,  2.40it/s]\n"
     ]
    },
    {
     "name": "stdout",
     "output_type": "stream",
     "text": [
      "Train Loss: 0.1429 AUC: 0.9870\n",
      "Valid Loss: 0.1556 AUC: 0.9872\n",
      "\n",
      "Epoch 21/30\n",
      "------------------------------\n"
     ]
    },
    {
     "name": "stderr",
     "output_type": "stream",
     "text": [
      "Training: 100%|██████████| 1002/1002 [05:05<00:00,  3.28it/s]\n",
      "Validation: 100%|██████████| 251/251 [00:56<00:00,  4.43it/s]\n"
     ]
    },
    {
     "name": "stdout",
     "output_type": "stream",
     "text": [
      "Train Loss: 0.1386 AUC: 0.9878\n",
      "Valid Loss: 0.1604 AUC: 0.9882\n",
      "\n",
      "Epoch 22/30\n",
      "------------------------------\n"
     ]
    },
    {
     "name": "stderr",
     "output_type": "stream",
     "text": [
      "Training: 100%|██████████| 1002/1002 [04:42<00:00,  3.55it/s]\n",
      "Validation: 100%|██████████| 251/251 [00:55<00:00,  4.51it/s]\n"
     ]
    },
    {
     "name": "stdout",
     "output_type": "stream",
     "text": [
      "Train Loss: 0.1368 AUC: 0.9882\n",
      "Valid Loss: 0.1488 AUC: 0.9868\n",
      "\n",
      "Epoch 23/30\n",
      "------------------------------\n"
     ]
    },
    {
     "name": "stderr",
     "output_type": "stream",
     "text": [
      "Training: 100%|██████████| 1002/1002 [04:15<00:00,  3.93it/s]\n",
      "Validation: 100%|██████████| 251/251 [00:55<00:00,  4.54it/s]\n"
     ]
    },
    {
     "name": "stdout",
     "output_type": "stream",
     "text": [
      "Train Loss: 0.1337 AUC: 0.9887\n",
      "Valid Loss: 0.1784 AUC: 0.9857\n",
      "\n",
      "Epoch 24/30\n",
      "------------------------------\n"
     ]
    },
    {
     "name": "stderr",
     "output_type": "stream",
     "text": [
      "Training: 100%|██████████| 1002/1002 [04:41<00:00,  3.56it/s]\n",
      "Validation: 100%|██████████| 251/251 [01:00<00:00,  4.13it/s]\n"
     ]
    },
    {
     "name": "stdout",
     "output_type": "stream",
     "text": [
      "Train Loss: 0.1316 AUC: 0.9889\n",
      "Valid Loss: 0.1356 AUC: 0.9898\n",
      ">>> Saved best model with Val Loss: 0.13560198015078773\n",
      "\n",
      "Epoch 25/30\n",
      "------------------------------\n"
     ]
    },
    {
     "name": "stderr",
     "output_type": "stream",
     "text": [
      "Training: 100%|██████████| 1002/1002 [05:17<00:00,  3.16it/s]\n",
      "Validation: 100%|██████████| 251/251 [01:23<00:00,  2.99it/s]\n"
     ]
    },
    {
     "name": "stdout",
     "output_type": "stream",
     "text": [
      "Train Loss: 0.1283 AUC: 0.9894\n",
      "Valid Loss: 0.1269 AUC: 0.9902\n",
      ">>> Saved best model with Val Loss: 0.12694528874070307\n",
      "\n",
      "Epoch 26/30\n",
      "------------------------------\n"
     ]
    },
    {
     "name": "stderr",
     "output_type": "stream",
     "text": [
      "Training: 100%|██████████| 1002/1002 [05:19<00:00,  3.14it/s]\n",
      "Validation: 100%|██████████| 251/251 [00:58<00:00,  4.32it/s]\n"
     ]
    },
    {
     "name": "stdout",
     "output_type": "stream",
     "text": [
      "Train Loss: 0.1266 AUC: 0.9898\n",
      "Valid Loss: 0.1339 AUC: 0.9888\n",
      "\n",
      "Epoch 27/30\n",
      "------------------------------\n"
     ]
    },
    {
     "name": "stderr",
     "output_type": "stream",
     "text": [
      "Training: 100%|██████████| 1002/1002 [05:00<00:00,  3.33it/s]\n",
      "Validation: 100%|██████████| 251/251 [01:14<00:00,  3.37it/s]\n"
     ]
    },
    {
     "name": "stdout",
     "output_type": "stream",
     "text": [
      "Train Loss: 0.1252 AUC: 0.9900\n",
      "Valid Loss: 0.1216 AUC: 0.9909\n",
      ">>> Saved best model with Val Loss: 0.1216055369276679\n",
      "\n",
      "Epoch 28/30\n",
      "------------------------------\n"
     ]
    },
    {
     "name": "stderr",
     "output_type": "stream",
     "text": [
      "Training: 100%|██████████| 1002/1002 [04:42<00:00,  3.55it/s]\n",
      "Validation: 100%|██████████| 251/251 [01:07<00:00,  3.69it/s]\n"
     ]
    },
    {
     "name": "stdout",
     "output_type": "stream",
     "text": [
      "Train Loss: 0.1224 AUC: 0.9904\n",
      "Valid Loss: 0.1221 AUC: 0.9904\n",
      "\n",
      "Epoch 29/30\n",
      "------------------------------\n"
     ]
    },
    {
     "name": "stderr",
     "output_type": "stream",
     "text": [
      "Training: 100%|██████████| 1002/1002 [04:44<00:00,  3.52it/s]\n",
      "Validation: 100%|██████████| 251/251 [00:57<00:00,  4.39it/s]\n"
     ]
    },
    {
     "name": "stdout",
     "output_type": "stream",
     "text": [
      "Train Loss: 0.1188 AUC: 0.9909\n",
      "Valid Loss: 0.1306 AUC: 0.9903\n",
      "\n",
      "Epoch 30/30\n",
      "------------------------------\n"
     ]
    },
    {
     "name": "stderr",
     "output_type": "stream",
     "text": [
      "Training: 100%|██████████| 1002/1002 [04:43<00:00,  3.53it/s]\n",
      "Validation: 100%|██████████| 251/251 [00:56<00:00,  4.45it/s]"
     ]
    },
    {
     "name": "stdout",
     "output_type": "stream",
     "text": [
      "Train Loss: 0.1187 AUC: 0.9909\n",
      "Valid Loss: 0.1808 AUC: 0.9894\n"
     ]
    },
    {
     "name": "stderr",
     "output_type": "stream",
     "text": [
      "\n"
     ]
    }
   ],
   "source": [
    "model, history = train_model(model, train_loader, valid_loader, criterion, optimizer, device, num_epochs=30)"
   ]
  },
  {
   "cell_type": "code",
   "execution_count": 19,
   "id": "7d00bc90",
   "metadata": {
    "execution": {
     "iopub.execute_input": "2025-10-04T12:29:52.307001Z",
     "iopub.status.busy": "2025-10-04T12:29:52.306436Z",
     "iopub.status.idle": "2025-10-04T12:29:52.310591Z",
     "shell.execute_reply": "2025-10-04T12:29:52.310072Z"
    },
    "papermill": {
     "duration": 1.63356,
     "end_time": "2025-10-04T12:29:52.311641",
     "exception": false,
     "start_time": "2025-10-04T12:29:50.678081",
     "status": "completed"
    },
    "tags": []
   },
   "outputs": [],
   "source": [
    "import pickle\n",
    "\n",
    "with open(\"train_history.pkl\", \"wb\") as f:\n",
    "    pickle.dump(history, f)"
   ]
  },
  {
   "cell_type": "code",
   "execution_count": 20,
   "id": "6bf31afa",
   "metadata": {
    "execution": {
     "iopub.execute_input": "2025-10-04T12:29:55.542528Z",
     "iopub.status.busy": "2025-10-04T12:29:55.541854Z",
     "iopub.status.idle": "2025-10-04T12:29:55.546026Z",
     "shell.execute_reply": "2025-10-04T12:29:55.545494Z"
    },
    "papermill": {
     "duration": 1.629591,
     "end_time": "2025-10-04T12:29:55.547158",
     "exception": false,
     "start_time": "2025-10-04T12:29:53.917567",
     "status": "completed"
    },
    "tags": []
   },
   "outputs": [],
   "source": [
    "def plot_history(history):\n",
    "    # Plot loss\n",
    "    plt.figure(figsize=(10,5))\n",
    "    plt.plot(history[\"train_loss\"], label=\"Train Loss\")\n",
    "    plt.plot(history[\"val_loss\"], label=\"Validation Loss\")\n",
    "    plt.xlabel(\"Epoch\")\n",
    "    plt.ylabel(\"Loss\")\n",
    "    plt.title(\"Train vs Validation Loss\")\n",
    "    plt.legend()\n",
    "    plt.show()"
   ]
  },
  {
   "cell_type": "code",
   "execution_count": 20,
   "id": "f37d665e",
   "metadata": {
    "execution": {
     "iopub.execute_input": "2025-10-04T12:29:58.766084Z",
     "iopub.status.busy": "2025-10-04T12:29:58.765546Z",
     "iopub.status.idle": "2025-10-04T12:29:58.777002Z",
     "shell.execute_reply": "2025-10-04T12:29:58.776471Z"
    },
    "papermill": {
     "duration": 1.61053,
     "end_time": "2025-10-04T12:29:58.778169",
     "exception": false,
     "start_time": "2025-10-04T12:29:57.167639",
     "status": "completed"
    },
    "tags": []
   },
   "outputs": [],
   "source": [
    "def evaluate_model(model, data_loader, device, threshold=None, min_tpr=0.95, tune_threshold=True):\n",
    "    \"\"\"\n",
    "    Evaluate model trên tập dữ liệu và (tuỳ chọn) tự động tìm threshold tốt nhất\n",
    "    theo tiêu chí Recall (TPR) ưu tiên.\n",
    "    \n",
    "    Args:\n",
    "        model : mô hình đã huấn luyện\n",
    "        data_loader : DataLoader cho tập validation/test\n",
    "        device : 'cuda' hoặc 'cpu'\n",
    "        threshold : threshold cố định (nếu không muốn auto-tune)\n",
    "        min_tpr : ngưỡng tối thiểu của Recall khi tune threshold\n",
    "        tune_threshold : nếu True -> tự động tìm threshold tối ưu theo Recall\n",
    "\n",
    "    Returns:\n",
    "        metrics : dict chứa kết quả đánh giá\n",
    "    \"\"\"\n",
    "    model.eval()\n",
    "    y_true, y_probs = [], []\n",
    "\n",
    "    with torch.no_grad():\n",
    "        for xb, yb in data_loader:\n",
    "            xb, yb = xb.to(device), yb.to(device)\n",
    "            logits = model(xb)\n",
    "            \n",
    "            # Nếu model cuối có Sigmoid rồi thì bỏ sigmoid ở đây\n",
    "            if logits.shape[-1] == 1:\n",
    "                probs = logits.squeeze().detach().cpu().numpy()\n",
    "            else:\n",
    "                probs = torch.sigmoid(logits).squeeze().detach().cpu().numpy()\n",
    "\n",
    "            y_probs.extend(probs)\n",
    "            y_true.extend(yb.cpu().numpy())\n",
    "\n",
    "    y_true = np.array(y_true)\n",
    "    y_probs = np.array(y_probs)\n",
    "\n",
    "    # =====================\n",
    "    # 1️⃣ Tune threshold nếu bật\n",
    "    # =====================\n",
    "    if tune_threshold:\n",
    "        fpr, tpr, thresholds = roc_curve(y_true, y_probs)\n",
    "        valid_idx = np.where(tpr >= min_tpr)[0]\n",
    "\n",
    "        if len(valid_idx) == 0:\n",
    "            print(f\"⚠️ Không có threshold nào đạt TPR >= {min_tpr}. Sẽ chọn threshold với TPR cao nhất.\")\n",
    "            best_idx = np.argmax(tpr)\n",
    "        else:\n",
    "            best_idx = valid_idx[np.argmin(fpr[valid_idx])]\n",
    "\n",
    "        threshold = thresholds[best_idx]\n",
    "        print(f\"\\n🔍 Tuning threshold (TPR priority): {threshold:.4f}\")\n",
    "        print(f\"TPR={tpr[best_idx]:.4f}, FPR={fpr[best_idx]:.4f}\")\n",
    "\n",
    "    elif threshold is None:\n",
    "        threshold = 0.5  # Mặc định\n",
    "\n",
    "    # =====================\n",
    "    # 2️⃣ Áp dụng threshold để tính metric\n",
    "    # =====================\n",
    "    y_pred = (y_probs >= threshold).astype(int)\n",
    "\n",
    "    acc = accuracy_score(y_true, y_pred)\n",
    "    try:\n",
    "        auc = roc_auc_score(y_true, y_probs)\n",
    "    except ValueError:\n",
    "        auc = None\n",
    "\n",
    "    report = classification_report(y_true, y_pred, digits=4)\n",
    "    cm = confusion_matrix(y_true, y_pred)\n",
    "\n",
    "    print(\"\\n=== Evaluation Report ===\")\n",
    "    print(f\"Accuracy : {acc:.4f}\")\n",
    "    if auc is not None:\n",
    "        print(f\"ROC AUC  : {auc:.4f}\")\n",
    "    print(f\"Threshold: {threshold:.4f}\")\n",
    "    print(\"\\nClassification Report:\\n\", report)\n",
    "\n",
    "    # =====================\n",
    "    # 3️⃣ Confusion Matrix\n",
    "    # =====================\n",
    "    plt.figure(figsize=(5, 4))\n",
    "    sns.heatmap(cm, annot=True, fmt=\"d\", cmap=\"Blues\", xticklabels=[0, 1], yticklabels=[0, 1])\n",
    "    plt.xlabel(\"Predicted\")\n",
    "    plt.ylabel(\"True\")\n",
    "    plt.title(f\"Confusion Matrix (Threshold={threshold:.3f})\")\n",
    "    plt.show()\n",
    "\n",
    "    # =====================\n",
    "    # 4️⃣ ROC Curve\n",
    "    # =====================\n",
    "    if auc is not None:\n",
    "        fpr, tpr, _ = roc_curve(y_true, y_probs)\n",
    "        plt.figure(figsize=(5, 4))\n",
    "        plt.plot(fpr, tpr, label=f\"AUC = {auc:.4f}\")\n",
    "        plt.plot([0, 1], [0, 1], linestyle=\"--\", color=\"gray\")\n",
    "        plt.xlabel(\"False Positive Rate\")\n",
    "        plt.ylabel(\"True Positive Rate\")\n",
    "        plt.title(\"ROC Curve\")\n",
    "        plt.legend()\n",
    "        plt.show()\n",
    "\n",
    "    return {\n",
    "        \"accuracy\": acc,\n",
    "        \"auc\": auc,\n",
    "        \"report\": report,\n",
    "        \"confusion_matrix\": cm,\n",
    "        \"threshold\": threshold\n",
    "    }"
   ]
  },
  {
   "cell_type": "code",
   "execution_count": 22,
   "id": "dd8fe112",
   "metadata": {
    "execution": {
     "iopub.execute_input": "2025-10-04T12:30:02.010180Z",
     "iopub.status.busy": "2025-10-04T12:30:02.009595Z",
     "iopub.status.idle": "2025-10-04T12:30:02.189161Z",
     "shell.execute_reply": "2025-10-04T12:30:02.188503Z"
    },
    "papermill": {
     "duration": 1.691681,
     "end_time": "2025-10-04T12:30:02.190907",
     "exception": false,
     "start_time": "2025-10-04T12:30:00.499226",
     "status": "completed"
    },
    "tags": []
   },
   "outputs": [
    {
     "data": {
      "image/png": "[encoded data removed]",
      "text/plain": [
       "<Figure size 1000x500 with 1 Axes>"
      ]
     },
     "metadata": {},
     "output_type": "display_data"
    }
   ],
   "source": [
    "%matplotlib inline\n",
    "plot_history(history)"
   ]
  },
  {
   "cell_type": "code",
   "execution_count": 21,
   "id": "efbf285d",
   "metadata": {
    "execution": {
     "iopub.execute_input": "2025-10-04T12:30:05.451708Z",
     "iopub.status.busy": "2025-10-04T12:30:05.451373Z",
     "iopub.status.idle": "2025-10-04T12:30:05.483001Z",
     "shell.execute_reply": "2025-10-04T12:30:05.482040Z"
    },
    "papermill": {
     "duration": 1.644037,
     "end_time": "2025-10-04T12:30:05.484134",
     "exception": true,
     "start_time": "2025-10-04T12:30:03.840097",
     "status": "failed"
    },
    "tags": []
   },
   "outputs": [
    {
     "name": "stdout",
     "output_type": "stream",
     "text": [
      "\n",
      "🔍 Tuning threshold (TPR priority): 0.6303\n",
      "TPR=0.9500, FPR=0.0331\n",
      "\n",
      "=== Evaluation Report ===\n",
      "Accuracy : 0.9584\n",
      "ROC AUC  : 0.9917\n",
      "Threshold: 0.6303\n",
      "\n",
      "Classification Report:\n",
      "               precision    recall  f1-score   support\n",
      "\n",
      "           0     0.9508    0.9669    0.9588      8900\n",
      "           1     0.9663    0.9500    0.9581      8900\n",
      "\n",
      "    accuracy                         0.9584     17800\n",
      "   macro avg     0.9586    0.9584    0.9584     17800\n",
      "weighted avg     0.9586    0.9584    0.9584     17800\n",
      "\n"
     ]
    },
    {
     "data": {
      "image/png": "[encoded data removed]",
      "text/plain": [
       "<Figure size 500x400 with 2 Axes>"
      ]
     },
     "metadata": {},
     "output_type": "display_data"
    },
    {
     "data": {
      "image/png": "[encoded data removed]",
      "text/plain": [
       "<Figure size 500x400 with 1 Axes>"
      ]
     },
     "metadata": {},
     "output_type": "display_data"
    }
   ],
   "source": [
    "test_results = evaluate_model(\n",
    "    model,\n",
    "    test_loader,\n",
    "    device,\n",
    "    tune_threshold=True,\n",
    "    min_tpr=0.95\n",
    ")"
   ]
  }
 ],
 "metadata": {
  "kaggle": {
   "accelerator": "gpu",
   "dataSources": [
    {
     "databundleVersionId": 862157,
     "sourceId": 11848,
     "sourceType": "competition"
    }
   ],
   "dockerImageVersionId": 31089,
   "isGpuEnabled": true,
   "isInternetEnabled": true,
   "language": "python",
   "sourceType": "notebook"
  },
  "kernelspec": {
   "display_name": "deeplearning-proj",
   "language": "python",
   "name": "python3"
  },
  "language_info": {
   "codemirror_mode": {
    "name": "ipython",
    "version": 3
   },
   "file_extension": ".py",
   "mimetype": "text/x-python",
   "name": "python",
   "nbconvert_exporter": "python",
   "pygments_lexer": "ipython3",
   "version": "3.9.23"
  },
  "papermill": {
   "default_parameters": {},
   "duration": 13191.049322,
   "end_time": "2025-10-04T12:30:09.748588",
   "environment_variables": {},
   "exception": true,
   "input_path": "__notebook__.ipynb",
   "output_path": "__notebook__.ipynb",
   "parameters": {},
   "start_time": "2025-10-04T08:50:18.699266",
   "version": "2.6.0"
  }
 },
 "nbformat": 4,
 "nbformat_minor": 5
}
